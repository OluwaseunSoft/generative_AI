{
 "cells": [
  {
   "cell_type": "code",
   "execution_count": 1,
   "id": "de0c7071-0ca2-4667-a63c-d0926c67d99a",
   "metadata": {},
   "outputs": [
    {
     "data": {
      "text/plain": [
       "True"
      ]
     },
     "execution_count": 1,
     "metadata": {},
     "output_type": "execute_result"
    }
   ],
   "source": [
    "from dotenv import load_dotenv, find_dotenv\n",
    "load_dotenv(find_dotenv(), override=True)"
   ]
  },
  {
   "cell_type": "code",
   "execution_count": 10,
   "id": "ad7415db-1cef-46b9-ae9d-40fc77aa032e",
   "metadata": {},
   "outputs": [
    {
     "name": "stdin",
     "output_type": "stream",
     "text": [
      "Your prompt:  who developed it?\n"
     ]
    },
    {
     "name": "stdout",
     "output_type": "stream",
     "text": [
      "\n",
      "\n",
      "\u001b[1m> Entering new LLMChain chain...\u001b[0m\n",
      "Prompt after formatting:\n",
      "\u001b[32;1m\u001b[1;3mSystem: You are a chatbot having a conversation with a human.\n",
      "Human: how old is ai\n",
      "AI: Artificial intelligence (AI) as a field of study has been around since the 1950s, so it is over 60 years old. However, the development and evolution of AI technologies continue to progress rapidly, so it's constantly changing and growing.\n",
      "Human: how fast can it process?\n",
      "AI: The speed at which artificial intelligence can process information depends on various factors, such as the computing power of the hardware it is running on, the complexity of the task, and the efficiency of the algorithms being used. Some AI systems can process data and make decisions in real-time, while others may take longer depending on the nature of the task. Overall, AI processing speeds have improved significantly over the years with advancements in technology.\n",
      "Human: who developed it?\u001b[0m\n",
      "\n",
      "\u001b[1m> Finished chain.\u001b[0m\n",
      "{'content': 'who developed it?', 'chat_history': [HumanMessage(content='how old is ai'), AIMessage(content=\"Artificial intelligence (AI) as a field of study has been around since the 1950s, so it is over 60 years old. However, the development and evolution of AI technologies continue to progress rapidly, so it's constantly changing and growing.\"), HumanMessage(content='how fast can it process?'), AIMessage(content='The speed at which artificial intelligence can process information depends on various factors, such as the computing power of the hardware it is running on, the complexity of the task, and the efficiency of the algorithms being used. Some AI systems can process data and make decisions in real-time, while others may take longer depending on the nature of the task. Overall, AI processing speeds have improved significantly over the years with advancements in technology.')], 'text': 'AI as a field has been developed by researchers, scientists, and engineers from around the world over the past several decades. Some key figures and institutions that have played significant roles in the development of AI include Alan Turing, John McCarthy, Marvin Minsky, and the Massachusetts Institute of Technology (MIT). Many different individuals and organizations have contributed to the growth of AI through research, innovation, and collaboration.'}\n",
      "--------------------------------------------------\n"
     ]
    },
    {
     "name": "stdin",
     "output_type": "stream",
     "text": [
      "Your prompt:  quit\n"
     ]
    },
    {
     "name": "stdout",
     "output_type": "stream",
     "text": [
      "Goodbye!\n"
     ]
    }
   ],
   "source": [
    "from langchain_openai import ChatOpenAI\n",
    "from langchain.schema import SystemMessage\n",
    "from langchain.chains import LLMChain\n",
    "from langchain.prompts import ChatPromptTemplate, HumanMessagePromptTemplate, MessagesPlaceholder\n",
    "from langchain.memory import ConversationBufferMemory, FileChatMessageHistory\n",
    "\n",
    "\n",
    "llm = ChatOpenAI(model_name='gpt-3.5-turbo', temperature=1)\n",
    "\n",
    "history= FileChatMessageHistory('chat_history.json')\n",
    "memory = ConversationBufferMemory(\n",
    "    memory_key='chat_history',\n",
    "    chat_memory=history,\n",
    "    return_messages=True\n",
    ")\n",
    "\n",
    "prompt = ChatPromptTemplate(\n",
    "    input_variables=['content'],\n",
    "    messages=[\n",
    "       SystemMessage(content='You are a chatbot having a conversation with a human.'),\n",
    "        #SystemMessage(content='You respond only in German.'),\n",
    "        MessagesPlaceholder(variable_name='chat_history'),\n",
    "        HumanMessagePromptTemplate.from_template('{content}')\n",
    "    ]\n",
    ")\n",
    "\n",
    "chain = LLMChain(\n",
    "    llm=llm,\n",
    "    prompt=prompt,\n",
    "    memory=memory,\n",
    "    verbose=True\n",
    ")\n",
    "\n",
    "while True:\n",
    "    content = input('Your prompt: ')\n",
    "    if content.lower() in ['quit', 'exit', 'bye']:\n",
    "        print('Goodbye!')\n",
    "        break\n",
    "    \n",
    "    response = chain.invoke({'content': content})\n",
    "    print(response)\n",
    "    print('-' * 50)"
   ]
  },
  {
   "cell_type": "code",
   "execution_count": 6,
   "id": "7312ae4b-bccd-42ca-b97b-3c2e8556b423",
   "metadata": {},
   "outputs": [],
   "source": [
    "## Adding Chat Memory Using ConversationBufferMemory"
   ]
  },
  {
   "cell_type": "code",
   "execution_count": null,
   "id": "5002fe12-496b-4af0-86f8-01b3fedb9412",
   "metadata": {},
   "outputs": [],
   "source": [
    "## Saving Chat Sessions"
   ]
  },
  {
   "cell_type": "code",
   "execution_count": null,
   "id": "d7a828b5-4c6c-4c2d-ad6c-58d67714b7e2",
   "metadata": {},
   "outputs": [],
   "source": []
  }
 ],
 "metadata": {
  "kernelspec": {
   "display_name": "Python 3 (ipykernel)",
   "language": "python",
   "name": "python3"
  },
  "language_info": {
   "codemirror_mode": {
    "name": "ipython",
    "version": 3
   },
   "file_extension": ".py",
   "mimetype": "text/x-python",
   "name": "python",
   "nbconvert_exporter": "python",
   "pygments_lexer": "ipython3",
   "version": "3.11.8"
  }
 },
 "nbformat": 4,
 "nbformat_minor": 5
}
