{
 "cells": [
  {
   "cell_type": "code",
   "execution_count": 1,
   "id": "58b839b5-0176-4b8d-aa21-f349f1401e0a",
   "metadata": {},
   "outputs": [
    {
     "name": "stdout",
     "output_type": "stream",
     "text": [
      "Note: you may need to restart the kernel to use updated packages.\n"
     ]
    }
   ],
   "source": [
    "pip install -r ./requirements.txt -q"
   ]
  },
  {
   "cell_type": "code",
   "execution_count": 2,
   "id": "c94c018a-fcb5-4f5a-a7d7-7ede24708555",
   "metadata": {},
   "outputs": [
    {
     "name": "stdout",
     "output_type": "stream",
     "text": [
      "Note: you may need to restart the kernel to use updated packages.\n"
     ]
    },
    {
     "name": "stderr",
     "output_type": "stream",
     "text": [
      "WARNING: Package(s) not found: langchan\n"
     ]
    }
   ],
   "source": [
    "pip show langchan"
   ]
  },
  {
   "cell_type": "markdown",
   "id": "a3a17ff8-4624-4ac8-add7-577d4a09ec67",
   "metadata": {},
   "source": [
    "# pip show openai"
   ]
  },
  {
   "cell_type": "code",
   "execution_count": 4,
   "id": "ab22d82d-ddc2-4547-8262-8f9e38c39613",
   "metadata": {},
   "outputs": [
    {
     "name": "stdout",
     "output_type": "stream",
     "text": [
      "Hello world\n"
     ]
    }
   ],
   "source": [
    "print(\"Hello world\")"
   ]
  },
  {
   "cell_type": "code",
   "execution_count": 5,
   "id": "9943462c-931b-4136-b19a-d512f1a8436d",
   "metadata": {},
   "outputs": [
    {
     "name": "stdout",
     "output_type": "stream",
     "text": [
      "Requirement already satisfied: python-dotenv in c:\\users\\akinw\\anaconda3\\envs\\andela\\lib\\site-packages (1.0.1)\n",
      "Note: you may need to restart the kernel to use updated packages.\n"
     ]
    }
   ],
   "source": [
    "pip install python-dotenv"
   ]
  },
  {
   "cell_type": "markdown",
   "id": "a0d4cdd0-f024-4812-90ee-4ecff200b849",
   "metadata": {},
   "source": [
    "python-dotenv"
   ]
  },
  {
   "cell_type": "code",
   "execution_count": 12,
   "id": "25fbeae2-26c6-4d01-93f3-e385395e0994",
   "metadata": {},
   "outputs": [
    {
     "data": {
      "text/plain": [
       "True"
      ]
     },
     "execution_count": 12,
     "metadata": {},
     "output_type": "execute_result"
    }
   ],
   "source": [
    "import os\n",
    "from dotenv import load_dotenv, find_dotenv\n",
    "load_dotenv(find_dotenv(), override=True)\n",
    "\n",
    "#os.environ.get('OPENAI_API_KEY')"
   ]
  },
  {
   "cell_type": "markdown",
   "id": "d1da93cb-cc16-41fa-a381-60cff9f40411",
   "metadata": {},
   "source": [
    "Chat Models: GPT-3.5 Turbo and GPT-4\n"
   ]
  },
  {
   "cell_type": "code",
   "execution_count": 11,
   "id": "a2f88ed3-32d3-452e-895d-52ed846105d5",
   "metadata": {},
   "outputs": [
    {
     "name": "stdout",
     "output_type": "stream",
     "text": [
      "Quantum mechanics is the branch of physics that describes the behavior of very small particles, such as atoms and subatomic particles, using mathematical equations called wave functions.\n"
     ]
    }
   ],
   "source": [
    "from langchain_openai import ChatOpenAI\n",
    "\n",
    "llm = ChatOpenAI()\n",
    "output = llm.invoke('Explain quatum mechanics in one sentence.')\n",
    "print(output.content)"
   ]
  },
  {
   "cell_type": "code",
   "execution_count": 13,
   "id": "4b8d2409-507d-48fc-93bc-a7b62ec600b3",
   "metadata": {},
   "outputs": [
    {
     "name": "stdout",
     "output_type": "stream",
     "text": [
      "Quantum mechanics ni iwe yii ti o je eeyan to n se iranlowo si awon ohun kan ti o le julo ni iranlowo ati awon ohun to le julo ni isoro wa.\n"
     ]
    }
   ],
   "source": [
    "from langchain.schema import(\n",
    "SystemMessage,\n",
    "AIMessage,\n",
    "HumanMessage\n",
    ")\n",
    "messages = [\n",
    "    SystemMessage(content= 'You are a chemist and respond only in Yoruba'),\n",
    "    HumanMessage('Explain quatum mechanics in one sentence.')\n",
    "]\n",
    "output = llm.invoke(messages)\n",
    "print(output.content)"
   ]
  },
  {
   "cell_type": "markdown",
   "id": "487ea5ee-143f-41df-ab48-6524b2b5204a",
   "metadata": {},
   "source": [
    "Caching LLM Responses\n"
   ]
  },
  {
   "cell_type": "markdown",
   "id": "353af502-836a-44e6-bdee-02b4a3e665c9",
   "metadata": {},
   "source": [
    "In-Memory Cache"
   ]
  },
  {
   "cell_type": "code",
   "execution_count": 14,
   "id": "c15b2946-a33d-459e-bae0-eb5722c7db26",
   "metadata": {},
   "outputs": [],
   "source": [
    "from langchain.globals import set_llm_cache\n",
    "from langchain_openai import OpenAI\n",
    "llm = OpenAI(model_name='gpt-3.5-turbo-instruct')"
   ]
  },
  {
   "cell_type": "code",
   "execution_count": 16,
   "id": "83eb4070-3f86-48e4-87a0-c79b847aaf19",
   "metadata": {},
   "outputs": [
    {
     "name": "stdout",
     "output_type": "stream",
     "text": [
      "CPU times: total: 219 ms\n",
      "Wall time: 2.24 s\n"
     ]
    },
    {
     "data": {
      "text/plain": [
       "'\\n\\n\"I love being famous, it\\'s almost like being white.\"'"
      ]
     },
     "execution_count": 16,
     "metadata": {},
     "output_type": "execute_result"
    }
   ],
   "source": [
    "%%time\n",
    "from langchain.cache import InMemoryCache\n",
    "set_llm_cache(InMemoryCache())\n",
    "prompt = 'Tell me a Chris Rock joke.'\n",
    "llm.invoke(prompt)"
   ]
  },
  {
   "cell_type": "code",
   "execution_count": 18,
   "id": "9fead1dd-982e-446d-be4a-384524f4f7a9",
   "metadata": {},
   "outputs": [
    {
     "name": "stdout",
     "output_type": "stream",
     "text": [
      "CPU times: total: 0 ns\n",
      "Wall time: 0 ns\n"
     ]
    },
    {
     "data": {
      "text/plain": [
       "'\\n\\n\"I love being famous, it\\'s almost like being white.\"'"
      ]
     },
     "execution_count": 18,
     "metadata": {},
     "output_type": "execute_result"
    }
   ],
   "source": [
    "%%time\n",
    "llm.invoke(prompt)"
   ]
  },
  {
   "cell_type": "markdown",
   "id": "6fa73867-06f8-4b6f-80cf-8c101886c83f",
   "metadata": {},
   "source": [
    "SQLite Caching"
   ]
  },
  {
   "cell_type": "code",
   "execution_count": 19,
   "id": "a47e100d-3cb0-4df4-b84e-d2d9db2eddf9",
   "metadata": {},
   "outputs": [],
   "source": [
    "from langchain.cache import SQLiteCache\n",
    "set_llm_cache(SQLiteCache(database_path=\".langchain.db\"))"
   ]
  },
  {
   "cell_type": "markdown",
   "id": "2de1d6f1-5fa5-4b8d-87d2-1128f6fb4079",
   "metadata": {},
   "source": [
    "LLM Streaming"
   ]
  },
  {
   "cell_type": "code",
   "execution_count": 21,
   "id": "b54b7a87-fe40-4607-b938-e318203f6332",
   "metadata": {},
   "outputs": [
    {
     "name": "stdout",
     "output_type": "stream",
     "text": [
      "Here is a C# code snippet to find the median of a list of numbers:\n",
      "\n",
      "```csharp\n",
      "using System;\n",
      "using System.Linq;\n",
      "\n",
      "class Program\n",
      "{\n",
      "    static void Main()\n",
      "    {\n",
      "        int[] numbers = { 1, 2, 3, 4, 5 };\n",
      "\n",
      "        Array.Sort(numbers);\n",
      "\n",
      "        double median;\n",
      "\n",
      "        if (numbers.Length % 2 == 0)\n",
      "        {\n",
      "            median = (numbers[numbers.Length / 2 - 1] + numbers[numbers.Length / 2]) / 2.0;\n",
      "        }\n",
      "        else\n",
      "        {\n",
      "            median = numbers[numbers.Length / 2];\n",
      "        }\n",
      "\n",
      "        Console.WriteLine(\"Median: \" + median);\n",
      "    }\n",
      "}\n",
      "```\n",
      "\n",
      "In this code snippet, we first sort the array of numbers. Then, we check if the length of the array is even or odd to calculate the median accordingly. If the length is even, we take the average of the two middle numbers. If the length is odd, we simply take the middle number as the median.\n"
     ]
    }
   ],
   "source": [
    "from langchain_openai import ChatOpenAI\n",
    "\n",
    "llm = ChatOpenAI()\n",
    "prompt = 'Write a c# code snippet to find a median of numbers'\n",
    "print(llm.invoke(prompt).content)"
   ]
  },
  {
   "cell_type": "code",
   "execution_count": 22,
   "id": "bdb3c906-1648-4ad2-888e-df53e6968f78",
   "metadata": {},
   "outputs": [
    {
     "name": "stdout",
     "output_type": "stream",
     "text": [
      "Here is a C# code snippet to find the median of numbers:\n",
      "\n",
      "```csharp\n",
      "using System;\n",
      "using System.Linq;\n",
      "\n",
      "class Program\n",
      "{\n",
      "    static void Main()\n",
      "    {\n",
      "        int[] numbers = { 1, 2, 3, 4, 5 };\n",
      "\n",
      "        Array.Sort(numbers);\n",
      "\n",
      "        double median;\n",
      "\n",
      "        if (numbers.Length % 2 == 0)\n",
      "        {\n",
      "            median = (numbers[numbers.Length / 2 - 1] + numbers[numbers.Length / 2]) / 2.0;\n",
      "        }\n",
      "        else\n",
      "        {\n",
      "            median = numbers[numbers.Length / 2];\n",
      "        }\n",
      "\n",
      "        Console.WriteLine(\"Median: \" + median);\n",
      "    }\n",
      "}\n",
      "```\n",
      "\n",
      "This code snippet first sorts the array of numbers in ascending order using `Array.Sort()`. Then, it calculates the median based on whether the number of elements is even or odd. If the number of elements is even, it calculates the average of the middle two elements. If the number of elements is odd, it simply takes the middle element as the median."
     ]
    }
   ],
   "source": [
    "for chunk in llm.stream(prompt):\n",
    "    print(chunk.content, end='', flush=True)"
   ]
  },
  {
   "cell_type": "markdown",
   "id": "04b1b9b6-8746-4383-b406-cedd75a8b8c7",
   "metadata": {},
   "source": [
    "Prompt Templates"
   ]
  },
  {
   "cell_type": "code",
   "execution_count": 26,
   "id": "98515f96-1d14-4b9a-a857-1c727187c1e2",
   "metadata": {},
   "outputs": [
    {
     "data": {
      "text/plain": [
       "'You are a software engineer.\\nWhat tools do you use for coding VS code and .NET core.'"
      ]
     },
     "execution_count": 26,
     "metadata": {},
     "output_type": "execute_result"
    }
   ],
   "source": [
    "from langchain.prompts import PromptTemplate\n",
    "from langchain_openai import ChatOpenAI\n",
    "\n",
    "template = '''You are a software engineer.\n",
    "What tools do you use for coding {ide} and {stack}.'''\n",
    "prompt_template = PromptTemplate.from_template(template=template)\n",
    "\n",
    "prompt = prompt_template.format(ide='VS code', stack='.NET core')\n",
    "prompt"
   ]
  },
  {
   "cell_type": "code",
   "execution_count": 27,
   "id": "c9f0ab4e-55b9-4c6d-832b-8121103cfab0",
   "metadata": {},
   "outputs": [
    {
     "name": "stdout",
     "output_type": "stream",
     "text": [
      "As a software engineer, I primarily use Visual Studio Code (VS Code) as my code editor and .NET Core as my framework for developing applications. \n",
      "\n",
      "VS Code is a lightweight and versatile code editor that supports a wide range of programming languages and extensions. It provides features such as syntax highlighting, code completion, debugging, and version control integration, making it a powerful tool for writing and debugging code.\n",
      "\n",
      ".NET Core is a cross-platform framework developed by Microsoft for building modern, cloud-based applications. It provides a set of libraries, tools, and runtime environments that enable developers to create high-performance and scalable applications. With .NET Core, I can develop applications using C#, F#, or Visual Basic and deploy them on various platforms, including Windows, macOS, and Linux.\n",
      "\n",
      "In addition to VS Code and .NET Core, I also use other tools and technologies in my workflow, such as Git for version control, Docker for containerization, and various testing frameworks for ensuring the quality and reliability of my code. Overall, these tools help me streamline my development process and deliver high-quality software solutions to my clients.\n"
     ]
    }
   ],
   "source": [
    "llm = ChatOpenAI(model_name='gpt-3.5-turbo', temperature=0)\n",
    "output = llm.invoke(prompt)\n",
    "print(output.content)"
   ]
  },
  {
   "cell_type": "code",
   "execution_count": 30,
   "id": "999876ee-01d2-40d1-8ae8-b61d20d920ff",
   "metadata": {},
   "outputs": [
    {
     "name": "stdout",
     "output_type": "stream",
     "text": [
      "\n",
      "\n",
      "\u001b[1m> Entering new LLMChain chain...\u001b[0m\n",
      "Prompt after formatting:\n",
      "\u001b[32;1m\u001b[1;3mYou are a software engineer.\n",
      "What tools do you use for coding Notepad++ and php.\u001b[0m\n",
      "\n",
      "\u001b[1m> Finished chain.\u001b[0m\n"
     ]
    }
   ],
   "source": [
    "from langchain import PromptTemplate\n",
    "from langchain_openai import ChatOpenAI\n",
    "from langchain.chains import LLMChain\n",
    "\n",
    "llm = ChatOpenAI()\n",
    "template = '''You are a software engineer.\n",
    "What tools do you use for coding {ide} and {stack}.'''\n",
    "prompt_template = PromptTemplate.from_template(template=template)\n",
    "\n",
    "chain = LLMChain(\n",
    "    llm = llm,\n",
    "    prompt = prompt_template,\n",
    "    verbose = True\n",
    ")\n",
    "\n",
    "output = chain.invoke({'ide':'Notepad++', 'stack':'php'})\n"
   ]
  },
  {
   "cell_type": "code",
   "execution_count": 29,
   "id": "ba26d1aa-eff0-4485-8a53-3cb10f5941de",
   "metadata": {},
   "outputs": [
    {
     "name": "stdout",
     "output_type": "stream",
     "text": [
      "{'ide': 'Notepad++', 'stack': 'php', 'text': 'As a software engineer, I would typically use Notepad++ as my text editor for writing code in various programming languages, including PHP. Notepad++ is a lightweight and versatile editor that offers syntax highlighting, code folding, and various plugins to enhance the coding experience.\\n\\nFor coding in PHP specifically, I would also use an Integrated Development Environment (IDE) such as PhpStorm or Visual Studio Code. These IDEs provide advanced features such as code completion, debugging tools, and version control integration, which can greatly improve productivity and efficiency when working on PHP projects.\\n\\nIn addition to these tools, I would also use version control systems such as Git for managing code changes and collaborating with team members. Continuous integration tools like Jenkins or Travis CI may also be used to automate the testing and deployment process.\\n\\nOverall, having a good set of tools and a solid workflow is essential for a software engineer to write clean, efficient, and maintainable code.'}\n"
     ]
    }
   ],
   "source": [
    "print(output)"
   ]
  },
  {
   "cell_type": "markdown",
   "id": "3568fe19-3f6e-4531-8b7a-c862a2ffce3a",
   "metadata": {},
   "source": [
    "Sequential chains"
   ]
  },
  {
   "cell_type": "markdown",
   "id": "3ae6c5c0-ed00-4958-9a63-290d32e8f75a",
   "metadata": {},
   "source": [
    "LangChain Agents in Action: Python REPL"
   ]
  },
  {
   "cell_type": "code",
   "execution_count": 31,
   "id": "664c022e-c787-44af-9cc9-8b6d58ff7701",
   "metadata": {},
   "outputs": [
    {
     "name": "stdout",
     "output_type": "stream",
     "text": [
      "Note: you may need to restart the kernel to use updated packages.\n"
     ]
    }
   ],
   "source": [
    "pip install -q langchain_experimental"
   ]
  },
  {
   "cell_type": "code",
   "execution_count": 33,
   "id": "5e589fc1-1880-48c2-a078-a9214ec08eba",
   "metadata": {},
   "outputs": [
    {
     "name": "stderr",
     "output_type": "stream",
     "text": [
      "Python REPL can execute arbitrary code. Use with caution.\n"
     ]
    },
    {
     "data": {
      "text/plain": [
       "'[13, 26, 39, 52, 65, 78, 91]\\n'"
      ]
     },
     "execution_count": 33,
     "metadata": {},
     "output_type": "execute_result"
    }
   ],
   "source": [
    "from langchain_experimental.utilities import PythonREPL\n",
    "python_repl = PythonREPL()\n",
    "python_repl.run('print([n for n in range(1, 100) if n % 13 == 0])')"
   ]
  },
  {
   "cell_type": "code",
   "execution_count": 34,
   "id": "1fdb39ce-7e85-41eb-84e0-19adeff9ecc4",
   "metadata": {},
   "outputs": [
    {
     "name": "stdout",
     "output_type": "stream",
     "text": [
      "\n",
      "\n",
      "\u001b[1m> Entering new AgentExecutor chain...\u001b[0m\n",
      "\u001b[32;1m\u001b[1;3mWe can calculate the factorial of 12 and then find the square root of that result.\n",
      "Action: Python_REPL\n",
      "Action Input: import math\u001b[0m\n",
      "Observation: \u001b[36;1m\u001b[1;3m\u001b[0m\n",
      "Thought:\u001b[32;1m\u001b[1;3mWe need to import the `math` module to access the square root function.\n",
      "Action: Python_REPL\n",
      "Action Input: math.factorial(12)\u001b[0m\n",
      "Observation: \u001b[36;1m\u001b[1;3m\u001b[0m\n",
      "Thought:\u001b[32;1m\u001b[1;3mThe factorial of 12 is 479001600.\n",
      "Action: Python_REPL\n",
      "Action Input: math.sqrt(479001600)\u001b[0m\n",
      "Observation: \u001b[36;1m\u001b[1;3m\u001b[0m\n",
      "Thought:\u001b[32;1m\u001b[1;3mThe square root of the factorial of 12 is 21,890.3224.\n",
      "Final Answer: 21890.3224\u001b[0m\n",
      "\n",
      "\u001b[1m> Finished chain.\u001b[0m\n"
     ]
    },
    {
     "data": {
      "text/plain": [
       "{'input': 'Calculate the square root of the factorial of 12 and display it with 4 decimal points',\n",
       " 'output': '21890.3224'}"
      ]
     },
     "execution_count": 34,
     "metadata": {},
     "output_type": "execute_result"
    }
   ],
   "source": [
    "from langchain_experimental.agents.agent_toolkits import create_python_agent\n",
    "from langchain_experimental.tools.python.tool import PythonREPLTool\n",
    "from langchain_openai import ChatOpenAI\n",
    "\n",
    "llm = ChatOpenAI()\n",
    "agent_executor = create_python_agent(\n",
    "    llm = llm,\n",
    "    tool = PythonREPLTool(),\n",
    "    verbose = True)\n",
    "agent_executor.invoke('Calculate the square root of the factorial of 12 and display it with 4 decimal points')"
   ]
  },
  {
   "cell_type": "markdown",
   "id": "f26483b7-4b5b-40c8-9931-6ae0831169fa",
   "metadata": {},
   "source": [
    "LangChain Tools: DuckDuckGo and Wikipedia"
   ]
  },
  {
   "cell_type": "code",
   "execution_count": 35,
   "id": "f8fbe13a-ff4c-495d-a1dc-b3f7c2f4e0af",
   "metadata": {},
   "outputs": [
    {
     "name": "stdout",
     "output_type": "stream",
     "text": [
      "Note: you may need to restart the kernel to use updated packages.\n"
     ]
    }
   ],
   "source": [
    "pip install -q duckduckgo-search"
   ]
  },
  {
   "cell_type": "code",
   "execution_count": 38,
   "id": "2e323f1e-545d-494b-9e06-74103dd040df",
   "metadata": {},
   "outputs": [
    {
     "name": "stderr",
     "output_type": "stream",
     "text": [
      "C:\\Users\\akinw\\anaconda3\\envs\\Andela\\Lib\\site-packages\\curl_cffi\\aio.py:39: RuntimeWarning: \n",
      "    Proactor event loop does not implement add_reader family of methods required.\n",
      "    Registering an additional selector thread for add_reader support.\n",
      "    To avoid this warning use:\n",
      "        asyncio.set_event_loop_policy(WindowsSelectorEventLoopPolicy())\n",
      "    \n",
      "  warnings.warn(PROACTOR_WARNING, RuntimeWarning)\n"
     ]
    },
    {
     "name": "stdout",
     "output_type": "stream",
     "text": [
      "Source: Twitter. But for Pastor Enoch Adejare Adeboye, who turns 82 on Saturday, March 2, 2024, what is paramount is winning souls for Christ - an act he has been doing every day for at least 50 years. Adeboye, fondly called \"Daddy GO\" by his followers, leads the Redeemed Christian Church of God (RCCG), a Pentecostal megachurch headquartered in ... Pastor Enoch Adeboye, RCCG GO. The General Overseer of the Redeemed Christian Church of God (RCCG), Pastor Enoch Adeboye, says he is alive because God is wonderful, recalling how he once escaped ... Sunday, March 3, 2024 8:31 am. Pastor E.A Adeboye. By Bisi Daniels. Pastor Enoch Adeboye, General Overseer of the Redeemed Christian Church of God (RCCG), cannot be found sharing God's glory for his greatness. He dreads it. \"Without God, I am nothing,\" he is quick to point out. Born and raised in debilitating poverty, it is a miracle that ... Pastor E.A ADEBOYE. General Overseer of Redeemed Christian Church of God. 07098213112. ... Born in 1942 into a humble family in the village of Ifewara, Osun State located in the South-western part of Nigeria Enoch Adeboye often humorously states that his family was so poor that even the poor people called them poor. In 1956 Enoch Adeboye was ... December 20, 2023. Pastor Enoch Adejare Adeboye, popularly called (Baba Adeboye or Daddy G.O.) is a renowned Nigerian pastor and the General Overseer of the Redeemed Christian Church of God (RCCG). He was born on March 2, 1942, in Ifewara, Osun State, Nigeria. He came from a very humble background and was one of his parents' four children .\n"
     ]
    }
   ],
   "source": [
    "from langchain.tools import DuckDuckGoSearchRun\n",
    "\n",
    "search = DuckDuckGoSearchRun()\n",
    "output = search.invoke('Where was Pastor E.A Adeboye born')\n",
    "print(output)"
   ]
  },
  {
   "cell_type": "code",
   "execution_count": 39,
   "id": "519499cf-2b67-46bb-b75b-e223647f92a0",
   "metadata": {},
   "outputs": [],
   "source": [
    "import warnings\n",
    "warnings.filterwarnings('ignore')"
   ]
  },
  {
   "cell_type": "code",
   "execution_count": 40,
   "id": "75af1f8d-0df3-4e2e-b455-d5b6a570c69e",
   "metadata": {},
   "outputs": [
    {
     "name": "stdout",
     "output_type": "stream",
     "text": [
      "Note: you may need to restart the kernel to use updated packages.\n"
     ]
    }
   ],
   "source": [
    "pip install -q wikipedia"
   ]
  },
  {
   "cell_type": "code",
   "execution_count": 41,
   "id": "2707ffa5-73b8-493c-8632-b2e6e5b7fd6c",
   "metadata": {},
   "outputs": [],
   "source": [
    "from langchain_community.tools import WikipediaQueryRun\n",
    "from langchain_community.utilities import WikipediaAPIWrapper"
   ]
  },
  {
   "cell_type": "code",
   "execution_count": 43,
   "id": "731d14b3-0a05-4810-83f8-6e7c394e6e88",
   "metadata": {},
   "outputs": [
    {
     "data": {
      "text/plain": [
       "'Page: Encarta\\nSummary: Microsoft Encarta is a discontinued digital multimedia encyclopedia published by Microsoft from 1993 to 2009. Originally sold on CD-ROM or DVD, it was also available online via annual subscription, although later articles could also be viewed for free online with advertisements. By 2008, the complete English version, Encarta Premium, consisted of more than 62,000 articles, numerous photos and illustrations, music clips, videos, interactive content, timelines, maps, atlases'"
      ]
     },
     "execution_count": 43,
     "metadata": {},
     "output_type": "execute_result"
    }
   ],
   "source": [
    "api_wrapper = WikipediaAPIWrapper(top_k_results=1, doc_content_chars_max=500)\n",
    "wiki = WikipediaQueryRun(api_wrapper=api_wrapper)\n",
    "wiki.invoke({'query':'Encarta'})"
   ]
  },
  {
   "cell_type": "code",
   "execution_count": 44,
   "id": "657f42d1-4105-4040-a80a-980115745142",
   "metadata": {},
   "outputs": [
    {
     "name": "stdout",
     "output_type": "stream",
     "text": [
      "Note: you may need to restart the kernel to use updated packages.\n"
     ]
    }
   ],
   "source": [
    "pip install langchainhub -q\n"
   ]
  },
  {
   "cell_type": "code",
   "execution_count": 45,
   "id": "d935b54a-55b5-46e0-97b1-5f1dc312b660",
   "metadata": {},
   "outputs": [
    {
     "data": {
      "text/plain": [
       "True"
      ]
     },
     "execution_count": 45,
     "metadata": {},
     "output_type": "execute_result"
    }
   ],
   "source": [
    "from dotenv import load_dotenv, find_dotenv\n",
    "load_dotenv(find_dotenv(), override=True)"
   ]
  },
  {
   "cell_type": "code",
   "execution_count": 58,
   "id": "68d01c37-2683-4a6e-a214-f1365e224682",
   "metadata": {},
   "outputs": [],
   "source": [
    "from langchain_experimental.tools.python.tool import PythonREPLTool\n",
    "from langchain_openai import ChatOpenAI\n",
    "from langchain.prompts import PromptTemplate\n",
    "from langchain import hub\n",
    "from langchain.agents import Tool, AgentExecutor, initialize_agent, create_react_agent\n",
    "from langchain.tools import DuckDuckGoSearchRun, WikipediaQueryRun\n",
    "from langchain.utilities import WikipediaAPIWrapper\n",
    "\n",
    "llm = ChatOpenAI()\n",
    "\n",
    "template = '''\n",
    "Anwser the following questions in Yoruba as best as you can.\n",
    "Questions: {q}\n",
    "'''\n",
    "prompt_template = PromptTemplate.from_template(template)\n",
    "prompt = hub.pull('hwchase17/react')\n",
    "#print(type(prompt))\n",
    "#print(prompt.input_variables)\n",
    "#print(prompt.template)\n",
    "#1 python REPL\n",
    "python_repl = PythonREPLTool()\n",
    "python_repl_tool = Tool(\n",
    "    name = 'Python REPL',\n",
    "    func = python_repl.run,\n",
    "    description='Useful for Python code'\n",
    ")\n",
    "#2 Wikipedia\n",
    "api_wrapper = WikipediaAPIWrapper()\n",
    "wiki = WikipediaQueryRun(api_wrapper = api_wrapper)\n",
    "wikipedia_tool = Tool(\n",
    "    name = 'Wikipedia',\n",
    "    func = wiki.run,\n",
    "    description='Useful for topics on Wikipedia'\n",
    ")\n",
    "#3 DuckDuckGoSearch\n",
    "search = DuckDuckGoSearchRun()\n",
    "duckduckgo_tool = Tool(\n",
    "    name = 'DuckDuckGo Search',\n",
    "    func = search.run,\n",
    "    description='Useful for internet search'\n",
    ")\n",
    "\n",
    "tools = [python_repl_tool, wikipedia_tool, duckduckgo_tool]\n",
    "agent = create_react_agent(llm, tools, prompt)\n",
    "agent_executor = AgentExecutor(\n",
    "    agent = agent,\n",
    "    tools = tools,\n",
    "    verbose = True,\n",
    "    handle_parsing_errors= True,\n",
    "    max_iterations=10\n",
    ")"
   ]
  },
  {
   "cell_type": "code",
   "execution_count": 60,
   "id": "19878ca6-c587-47e4-ad38-31300888ab53",
   "metadata": {},
   "outputs": [
    {
     "name": "stdout",
     "output_type": "stream",
     "text": [
      "\n",
      "\n",
      "\u001b[1m> Entering new AgentExecutor chain...\u001b[0m\n",
      "\u001b[32;1m\u001b[1;3mI should search for the lyrics of the Nigeria national anthem in Yoruba.\n",
      "Action: DuckDuckGo Search\n",
      "Action Input: Nigeria national anthem lyrics in Yoruba\u001b[0m\u001b[38;5;200m\u001b[1;3mThe history, lyrics, composers and writers of the old and new Nigerian National Anthem and Pledge are all in this post. I pledge to Nigeria my country. To be faithful, loyal and honest. To serve Nigeria with all my strength. To defend her unity, and uphold her. honor and glory. So help me God. National Anthem in Igbo. Verse 1. Bilie, ndị obodo. Oku Nigeria rube isi. Ijere ala nna anyị ozi. Site n'ịhụnanya na ume na okwukwe. Ọrụ ndị dike anyị ... Yoruba Learning Centre is aimed at teaching Yoruba Language for both children and adults at beginners, Intermediate and advance stages. We hope to help learners on how to effectively communicate with your loved ones in an exciting, educating and effective manner. ... Nigeria National anthem. In this episode, I sang the Nigeria national anthem ... November 25, 2023 by Geraldine Merryman. The traditional African Nigerian music of the Yoruba tribe is a vibrant and rich musical tradition that has captivated audiences for centuries. With its captivating rhythms, mesmerizing melodies, and powerful lyrics, Yoruba music is not only a form of entertainment but also a means of preserving the ... About Press Copyright Contact us Creators Advertise Developers Terms Privacy Policy & Safety How YouTube works Test new features NFL Sunday Ticket Press Copyright ...\u001b[0m\u001b[32;1m\u001b[1;3mI should look for a direct translation of the Nigeria national anthem in Yoruba.\n",
      "Action: DuckDuckGo Search\n",
      "Action Input: Nigeria national anthem Yoruba translation\u001b[0m\u001b[38;5;200m\u001b[1;3mNational Anthem in Yoruba. Verse 1. Dide, eyin Omo ilu. Ipe Nigeria gboran. Lati sin ile baba wa. Pẹlu ifẹ ati agbara ati igbagbọ. Iṣẹ awọn akọni wa ti kọja, kì yóò jẹ́ lásán. Lati sin pẹlu ọkan ati agbara, Orilẹ -ede kan ti a dè ni ominira, alaafia ati iṣọkan Translation: No one who rides a horse would not move his head. Meaning: The status of one's life influences how he treats people around him. Commonly Used: as one of the Yoruba proverbs that focuses on people and their treatment of others. It is also English's equivalent of \"to test a man, give him money and power\". 13. Yoruba Learning Centre is aimed at teaching Yoruba Language for both children and adults at beginners, Intermediate and advance stages. We hope to help learners on how to effectively communicate with your loved ones in an exciting, educating and effective manner. ... Nigeria National anthem. In this episode, I sang the Nigeria national anthem ... The Nigerian pledge of allegiance are lines recited immediately after the playing of the national anthem. The pledge precedes the current national anthem as it was written two years before the anthem in 1976. The author of the pledge is Prof (Mrs.) Felicia Adebola Adedoyin, a Nigerian of Yoruba descent from present-day Oyo State who was born in ... Request of translation of Nigerian National Anthem - Arise, O Compatriots song from English to French ... Tongan, Yoruba. Submitted by Eebo Peter Oludele on 2024-02-15; Subscribe; Original lyrics. Nigerian National Anthem - Arise, O Compatriots. Arise, O compatriots, Nigeria's call obey. To serve our Fatherland. With love and strength and faith\u001b[0m\u001b[32;1m\u001b[1;3mI should now try to find the full lyrics of the Nigeria national anthem in Yoruba.\n",
      "Action: DuckDuckGo Search\n",
      "Action Input: Full lyrics of Nigeria national anthem in Yoruba\u001b[0m\u001b[38;5;200m\u001b[1;3mThe history, lyrics, composers and writers of the old and new Nigerian National Anthem and Pledge are all in this post. NIGERIAN National Anthem in Yoruba, Hausa and Igbo language @myaccessbank. Went to a public school In Lagos, Nigeria and I saw the National anthem written clearly in Yoruba language. Very Lovely..... Take a look.... It Reads: VERSE 1 Dide eyin ara Waka je ipe Naijiria K'a fife sin 'le wa Pel'okun at'igbagbo Kise awon akoni wa, ko mase ja s'asan K'a sin t'okan tara Ile t'ominira,at'al aafia So d'okan VERSE 2 Olorun ... 30. 31. LYRICS: Nigerian National Anthem | First & Second Stanzas Arise, O compatriots, Nigeria's call obeyTo serve our fatherlandWith love and strength and faithThe labour of our heroes pastShall never be in vainTo serve with heart and mightOne nation bound in freedom, peace and unity.Oh God of creation, direct our noble…. I pledge to Nigeria my country. To be faithful, loyal and honest. To serve Nigeria with all my strength. To defend her unity, and uphold her. honor and glory. So help me God. National Anthem in Igbo. Verse 1. Bilie, ndị obodo. Oku Nigeria rube isi. Ijere ala nna anyị ozi. Site n'ịhụnanya na ume na okwukwe. Ọrụ ndị dike anyị ...\u001b[0m\u001b[32;1m\u001b[1;3mI now know the full lyrics of the Nigeria national anthem in Yoruba.\n",
      "Final Answer: The full lyrics of the Nigeria national anthem in Yoruba are as follows: VERSE 1 Dide eyin ara Waka je ipe Naijiria K'a fife sin 'le wa Pel'okun at'igbagbo Kise awon akoni wa, ko mase ja s'asan K'a sin t'okan tara Ile t'ominira,at'al aafia So d'okan VERSE 2 Olorun ... 30. 31. LYRICS: Nigerian National Anthem | First & Second Stanzas Arise, O compatriots, Nigeria's call obeyTo serve our fatherlandWith love and strength and faithThe labour of our heroes pastShall never be in vainTo serve with heart and mightOne nation bound in freedom, peace and unity.Oh God of creation, direct our noble….\u001b[0m\n",
      "\n",
      "\u001b[1m> Finished chain.\u001b[0m\n"
     ]
    }
   ],
   "source": [
    "#question = 'Generate the first 20 numbers in the Fibonacci series'\n",
    "#question = 'Current minister of education in Nigeria'\n",
    "question = 'Nigeria national anthem'\n",
    "output = agent_executor.invoke({\n",
    "    'input': prompt_template.format(q=question)\n",
    "})"
   ]
  },
  {
   "cell_type": "code",
   "execution_count": 54,
   "id": "619cabd6-1fbf-47d8-b359-bda9796d55fd",
   "metadata": {},
   "outputs": [
    {
     "name": "stdout",
     "output_type": "stream",
     "text": [
      "[0, 1, 1, 2, 3, 5, 8, 13, 21, 34, 55, 89, 144, 233, 377, 610, 987, 1597, 2584, 4181]\n"
     ]
    }
   ],
   "source": [
    "print(output['output'])"
   ]
  },
  {
   "cell_type": "code",
   "execution_count": null,
   "id": "bf2ad89e-f725-4b2c-8570-7e16e5a986a3",
   "metadata": {},
   "outputs": [],
   "source": []
  }
 ],
 "metadata": {
  "kernelspec": {
   "display_name": "Python 3 (ipykernel)",
   "language": "python",
   "name": "python3"
  },
  "language_info": {
   "codemirror_mode": {
    "name": "ipython",
    "version": 3
   },
   "file_extension": ".py",
   "mimetype": "text/x-python",
   "name": "python",
   "nbconvert_exporter": "python",
   "pygments_lexer": "ipython3",
   "version": "3.11.8"
  }
 },
 "nbformat": 4,
 "nbformat_minor": 5
}
